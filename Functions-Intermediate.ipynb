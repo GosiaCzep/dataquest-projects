{
 "cells": [
  {
   "cell_type": "markdown",
   "metadata": {},
   "source": [
    "- Write a function named open_dataset() that takes the name of a CSV file in as the input and returns the file as a list of lists.\n",
    "\n",
    "    - Initiate the function with the default argument 'AppleStore.csv'. Name the parameter as you wish.\n",
    "    - Inside the function definition:\n",
    "    - Open the file using the open() function.\n",
    "    - Read in the opened file using the reader() function, which we import from the csv module.\n",
    "    - Use list() to convert the output returned by reader() to a list of lists.\n",
    "    \n",
    "- Use the open_dataset() function to open the AppleStore.csv file.\n",
    "    - Use the open_dataset() function by taking advantage of the default argument.\n",
    "    - Assign the data set to a variable named apps_data.\n",
    "    \n",
    "- Inspect the apps_data data set after you run the code to confirm that everything went as expected. \n",
    "    - You can try to print the first few rows or just use the variable inspector of the code editor."
   ]
  },
  {
   "cell_type": "code",
   "execution_count": 2,
   "metadata": {},
   "outputs": [],
   "source": [
    "def open_dataset(file_name='AppleStore.csv'):\n",
    "    opened_file = open(file_name, encoding=\"utf8\")\n",
    "    from csv import reader\n",
    "    read_file = reader(opened_file)\n",
    "    data = list(read_file)\n",
    "    \n",
    "    return data\n",
    "\n",
    "apps_data = open_dataset()"
   ]
  },
  {
   "cell_type": "code",
   "execution_count": 6,
   "metadata": {},
   "outputs": [
    {
     "name": "stdout",
     "output_type": "stream",
     "text": [
      "['id', 'track_name', 'size_bytes', 'currency', 'price', 'rating_count_tot', 'rating_count_ver', 'user_rating', 'user_rating_ver', 'ver', 'cont_rating', 'prime_genre', 'sup_devices.num', 'ipadSc_urls.num', 'lang.num', 'vpp_lic']\n"
     ]
    }
   ],
   "source": [
    "apps_data = [row[1:] for row in apps_data]\n",
    "print(apps_data[0])"
   ]
  },
  {
   "cell_type": "code",
   "execution_count": 7,
   "metadata": {
    "collapsed": true
   },
   "outputs": [],
   "source": [
    "open?"
   ]
  }
 ],
 "metadata": {
  "kernelspec": {
   "display_name": "Python 3",
   "language": "python",
   "name": "python3"
  },
  "language_info": {
   "codemirror_mode": {
    "name": "ipython",
    "version": 3
   },
   "file_extension": ".py",
   "mimetype": "text/x-python",
   "name": "python",
   "nbconvert_exporter": "python",
   "pygments_lexer": "ipython3",
   "version": "3.6.8"
  }
 },
 "nbformat": 4,
 "nbformat_minor": 2
}
