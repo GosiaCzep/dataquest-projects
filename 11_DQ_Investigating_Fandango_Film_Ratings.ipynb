{
 "cells": [
  {
   "cell_type": "markdown",
   "metadata": {},
   "source": [
    "# Investigating Fandango Film Ratings\n",
    "---"
   ]
  },
  {
   "cell_type": "markdown",
   "metadata": {},
   "source": [
    "There was an [article](https://fivethirtyeight.com/features/fandango-movies-ratings/) in 2015 written by Walt Hickey pointing a significant discrepency between the actual rating and the number of stars displayed to users. The actual rating was almost always rounded up, including some completely bizarre rounding of 4 and displaying 5 stars. \n",
    "\n",
    "The main idea of this project is to analyze Fandango film ratings. The goal is to determine the reliability of the ratings presented on the [Fandango](https://www.fandango.com/) website and investigate whether there has been any change in Fandango's rating system after Hickey's article. \n",
    "\n",
    "We will use the data from the Hickey's analysis, which is publicly avaiable on [GitHub](https://github.com/fivethirtyeight/data/tree/master/fandango) and Dataquest's team collected film [ratings from 2016 and 2017](https://github.com/mircealex/Movie_ratings_2016_17)."
   ]
  },
  {
   "cell_type": "markdown",
   "metadata": {},
   "source": [
    "## Dataset Overview"
   ]
  },
  {
   "cell_type": "markdown",
   "metadata": {},
   "source": [
    "We will begin with reading in the dataset and we would like to perform an initial data exploration."
   ]
  },
  {
   "cell_type": "code",
   "execution_count": 1,
   "metadata": {},
   "outputs": [],
   "source": [
    "# Importing libraries\n",
    "import pandas as pd\n",
    "import numpy as np\n",
    "\n",
    "# Reading in data from Hickey's analysis\n",
    "ratings_Hickey = pd.read_csv('projects_dq\\\\Fandango\\\\fandango_score_comparison.csv', encoding='ISO-8859-1')\n",
    "# Reading in Dataquest data\n",
    "ratings_dq = pd.read_csv('projects_dq\\\\Fandango\\\\movie_ratings_16_17.csv', encoding='ISO-8859-1')"
   ]
  },
  {
   "cell_type": "code",
   "execution_count": 2,
   "metadata": {},
   "outputs": [
    {
     "data": {
      "text/html": [
       "<div>\n",
       "<style scoped>\n",
       "    .dataframe tbody tr th:only-of-type {\n",
       "        vertical-align: middle;\n",
       "    }\n",
       "\n",
       "    .dataframe tbody tr th {\n",
       "        vertical-align: top;\n",
       "    }\n",
       "\n",
       "    .dataframe thead th {\n",
       "        text-align: right;\n",
       "    }\n",
       "</style>\n",
       "<table border=\"1\" class=\"dataframe\">\n",
       "  <thead>\n",
       "    <tr style=\"text-align: right;\">\n",
       "      <th></th>\n",
       "      <th>FILM</th>\n",
       "      <th>RottenTomatoes</th>\n",
       "      <th>RottenTomatoes_User</th>\n",
       "      <th>Metacritic</th>\n",
       "      <th>Metacritic_User</th>\n",
       "      <th>IMDB</th>\n",
       "      <th>Fandango_Stars</th>\n",
       "      <th>Fandango_Ratingvalue</th>\n",
       "      <th>RT_norm</th>\n",
       "      <th>RT_user_norm</th>\n",
       "      <th>...</th>\n",
       "      <th>IMDB_norm</th>\n",
       "      <th>RT_norm_round</th>\n",
       "      <th>RT_user_norm_round</th>\n",
       "      <th>Metacritic_norm_round</th>\n",
       "      <th>Metacritic_user_norm_round</th>\n",
       "      <th>IMDB_norm_round</th>\n",
       "      <th>Metacritic_user_vote_count</th>\n",
       "      <th>IMDB_user_vote_count</th>\n",
       "      <th>Fandango_votes</th>\n",
       "      <th>Fandango_Difference</th>\n",
       "    </tr>\n",
       "  </thead>\n",
       "  <tbody>\n",
       "    <tr>\n",
       "      <th>0</th>\n",
       "      <td>Avengers: Age of Ultron (2015)</td>\n",
       "      <td>74</td>\n",
       "      <td>86</td>\n",
       "      <td>66</td>\n",
       "      <td>7.1</td>\n",
       "      <td>7.8</td>\n",
       "      <td>5.0</td>\n",
       "      <td>4.5</td>\n",
       "      <td>3.70</td>\n",
       "      <td>4.3</td>\n",
       "      <td>...</td>\n",
       "      <td>3.90</td>\n",
       "      <td>3.5</td>\n",
       "      <td>4.5</td>\n",
       "      <td>3.5</td>\n",
       "      <td>3.5</td>\n",
       "      <td>4.0</td>\n",
       "      <td>1330</td>\n",
       "      <td>271107</td>\n",
       "      <td>14846</td>\n",
       "      <td>0.5</td>\n",
       "    </tr>\n",
       "    <tr>\n",
       "      <th>1</th>\n",
       "      <td>Cinderella (2015)</td>\n",
       "      <td>85</td>\n",
       "      <td>80</td>\n",
       "      <td>67</td>\n",
       "      <td>7.5</td>\n",
       "      <td>7.1</td>\n",
       "      <td>5.0</td>\n",
       "      <td>4.5</td>\n",
       "      <td>4.25</td>\n",
       "      <td>4.0</td>\n",
       "      <td>...</td>\n",
       "      <td>3.55</td>\n",
       "      <td>4.5</td>\n",
       "      <td>4.0</td>\n",
       "      <td>3.5</td>\n",
       "      <td>4.0</td>\n",
       "      <td>3.5</td>\n",
       "      <td>249</td>\n",
       "      <td>65709</td>\n",
       "      <td>12640</td>\n",
       "      <td>0.5</td>\n",
       "    </tr>\n",
       "    <tr>\n",
       "      <th>2</th>\n",
       "      <td>Ant-Man (2015)</td>\n",
       "      <td>80</td>\n",
       "      <td>90</td>\n",
       "      <td>64</td>\n",
       "      <td>8.1</td>\n",
       "      <td>7.8</td>\n",
       "      <td>5.0</td>\n",
       "      <td>4.5</td>\n",
       "      <td>4.00</td>\n",
       "      <td>4.5</td>\n",
       "      <td>...</td>\n",
       "      <td>3.90</td>\n",
       "      <td>4.0</td>\n",
       "      <td>4.5</td>\n",
       "      <td>3.0</td>\n",
       "      <td>4.0</td>\n",
       "      <td>4.0</td>\n",
       "      <td>627</td>\n",
       "      <td>103660</td>\n",
       "      <td>12055</td>\n",
       "      <td>0.5</td>\n",
       "    </tr>\n",
       "    <tr>\n",
       "      <th>3</th>\n",
       "      <td>Do You Believe? (2015)</td>\n",
       "      <td>18</td>\n",
       "      <td>84</td>\n",
       "      <td>22</td>\n",
       "      <td>4.7</td>\n",
       "      <td>5.4</td>\n",
       "      <td>5.0</td>\n",
       "      <td>4.5</td>\n",
       "      <td>0.90</td>\n",
       "      <td>4.2</td>\n",
       "      <td>...</td>\n",
       "      <td>2.70</td>\n",
       "      <td>1.0</td>\n",
       "      <td>4.0</td>\n",
       "      <td>1.0</td>\n",
       "      <td>2.5</td>\n",
       "      <td>2.5</td>\n",
       "      <td>31</td>\n",
       "      <td>3136</td>\n",
       "      <td>1793</td>\n",
       "      <td>0.5</td>\n",
       "    </tr>\n",
       "    <tr>\n",
       "      <th>4</th>\n",
       "      <td>Hot Tub Time Machine 2 (2015)</td>\n",
       "      <td>14</td>\n",
       "      <td>28</td>\n",
       "      <td>29</td>\n",
       "      <td>3.4</td>\n",
       "      <td>5.1</td>\n",
       "      <td>3.5</td>\n",
       "      <td>3.0</td>\n",
       "      <td>0.70</td>\n",
       "      <td>1.4</td>\n",
       "      <td>...</td>\n",
       "      <td>2.55</td>\n",
       "      <td>0.5</td>\n",
       "      <td>1.5</td>\n",
       "      <td>1.5</td>\n",
       "      <td>1.5</td>\n",
       "      <td>2.5</td>\n",
       "      <td>88</td>\n",
       "      <td>19560</td>\n",
       "      <td>1021</td>\n",
       "      <td>0.5</td>\n",
       "    </tr>\n",
       "  </tbody>\n",
       "</table>\n",
       "<p>5 rows × 22 columns</p>\n",
       "</div>"
      ],
      "text/plain": [
       "                             FILM  RottenTomatoes  RottenTomatoes_User  \\\n",
       "0  Avengers: Age of Ultron (2015)              74                   86   \n",
       "1               Cinderella (2015)              85                   80   \n",
       "2                  Ant-Man (2015)              80                   90   \n",
       "3          Do You Believe? (2015)              18                   84   \n",
       "4   Hot Tub Time Machine 2 (2015)              14                   28   \n",
       "\n",
       "   Metacritic  Metacritic_User  IMDB  Fandango_Stars  Fandango_Ratingvalue  \\\n",
       "0          66              7.1   7.8             5.0                   4.5   \n",
       "1          67              7.5   7.1             5.0                   4.5   \n",
       "2          64              8.1   7.8             5.0                   4.5   \n",
       "3          22              4.7   5.4             5.0                   4.5   \n",
       "4          29              3.4   5.1             3.5                   3.0   \n",
       "\n",
       "   RT_norm  RT_user_norm  ...  IMDB_norm  RT_norm_round  RT_user_norm_round  \\\n",
       "0     3.70           4.3  ...       3.90            3.5                 4.5   \n",
       "1     4.25           4.0  ...       3.55            4.5                 4.0   \n",
       "2     4.00           4.5  ...       3.90            4.0                 4.5   \n",
       "3     0.90           4.2  ...       2.70            1.0                 4.0   \n",
       "4     0.70           1.4  ...       2.55            0.5                 1.5   \n",
       "\n",
       "   Metacritic_norm_round  Metacritic_user_norm_round  IMDB_norm_round  \\\n",
       "0                    3.5                         3.5              4.0   \n",
       "1                    3.5                         4.0              3.5   \n",
       "2                    3.0                         4.0              4.0   \n",
       "3                    1.0                         2.5              2.5   \n",
       "4                    1.5                         1.5              2.5   \n",
       "\n",
       "   Metacritic_user_vote_count  IMDB_user_vote_count  Fandango_votes  \\\n",
       "0                        1330                271107           14846   \n",
       "1                         249                 65709           12640   \n",
       "2                         627                103660           12055   \n",
       "3                          31                  3136            1793   \n",
       "4                          88                 19560            1021   \n",
       "\n",
       "   Fandango_Difference  \n",
       "0                  0.5  \n",
       "1                  0.5  \n",
       "2                  0.5  \n",
       "3                  0.5  \n",
       "4                  0.5  \n",
       "\n",
       "[5 rows x 22 columns]"
      ]
     },
     "execution_count": 2,
     "metadata": {},
     "output_type": "execute_result"
    }
   ],
   "source": [
    "# Reviewing the data in Hickey's dataset\n",
    "ratings_Hickey.head()"
   ]
  },
  {
   "cell_type": "code",
   "execution_count": 3,
   "metadata": {},
   "outputs": [
    {
     "name": "stdout",
     "output_type": "stream",
     "text": [
      "Number of all rows in the dataset: 146\n"
     ]
    }
   ],
   "source": [
    "# Finding out the total number of rows in Hickey's dataset\n",
    "print('Number of all rows in the dataset:', ratings_Hickey.shape[0])"
   ]
  },
  {
   "cell_type": "markdown",
   "metadata": {},
   "source": [
    "There are 22 columns and 146 rows in dataset used in Hickey's analysis. The dataset contains ratings from Fandango and other websites like RT (Rotten Tomatoes), Metacritic, IMDB.\n",
    "\n",
    "We will isolate the columns which represent information about Fandango's ratings in separate variables and make copies to avoid [SettingWithCopyWarning](https://www.dataquest.io/blog/settingwithcopywarning/)."
   ]
  },
  {
   "cell_type": "code",
   "execution_count": 4,
   "metadata": {
    "scrolled": true
   },
   "outputs": [],
   "source": [
    "# Selecting Fandango's ratings columns\n",
    "fandango_Hickey = ratings_Hickey[['FILM', 'Fandango_Stars', 'Fandango_Ratingvalue', 'Fandango_votes', 'Fandango_Difference']].copy()"
   ]
  },
  {
   "cell_type": "markdown",
   "metadata": {},
   "source": [
    "Right now, with fewer columns, it will be easier to analyze Fandango ratings. Let's review the data collected by Dataquest team."
   ]
  },
  {
   "cell_type": "code",
   "execution_count": 5,
   "metadata": {},
   "outputs": [
    {
     "data": {
      "text/html": [
       "<div>\n",
       "<style scoped>\n",
       "    .dataframe tbody tr th:only-of-type {\n",
       "        vertical-align: middle;\n",
       "    }\n",
       "\n",
       "    .dataframe tbody tr th {\n",
       "        vertical-align: top;\n",
       "    }\n",
       "\n",
       "    .dataframe thead th {\n",
       "        text-align: right;\n",
       "    }\n",
       "</style>\n",
       "<table border=\"1\" class=\"dataframe\">\n",
       "  <thead>\n",
       "    <tr style=\"text-align: right;\">\n",
       "      <th></th>\n",
       "      <th>movie</th>\n",
       "      <th>year</th>\n",
       "      <th>metascore</th>\n",
       "      <th>imdb</th>\n",
       "      <th>tmeter</th>\n",
       "      <th>audience</th>\n",
       "      <th>fandango</th>\n",
       "      <th>n_metascore</th>\n",
       "      <th>n_imdb</th>\n",
       "      <th>n_tmeter</th>\n",
       "      <th>n_audience</th>\n",
       "      <th>nr_metascore</th>\n",
       "      <th>nr_imdb</th>\n",
       "      <th>nr_tmeter</th>\n",
       "      <th>nr_audience</th>\n",
       "    </tr>\n",
       "  </thead>\n",
       "  <tbody>\n",
       "    <tr>\n",
       "      <th>0</th>\n",
       "      <td>10 Cloverfield Lane</td>\n",
       "      <td>2016</td>\n",
       "      <td>76</td>\n",
       "      <td>7.2</td>\n",
       "      <td>90</td>\n",
       "      <td>79</td>\n",
       "      <td>3.5</td>\n",
       "      <td>3.80</td>\n",
       "      <td>3.60</td>\n",
       "      <td>4.50</td>\n",
       "      <td>3.95</td>\n",
       "      <td>4.0</td>\n",
       "      <td>3.5</td>\n",
       "      <td>4.5</td>\n",
       "      <td>4.0</td>\n",
       "    </tr>\n",
       "    <tr>\n",
       "      <th>1</th>\n",
       "      <td>13 Hours</td>\n",
       "      <td>2016</td>\n",
       "      <td>48</td>\n",
       "      <td>7.3</td>\n",
       "      <td>50</td>\n",
       "      <td>83</td>\n",
       "      <td>4.5</td>\n",
       "      <td>2.40</td>\n",
       "      <td>3.65</td>\n",
       "      <td>2.50</td>\n",
       "      <td>4.15</td>\n",
       "      <td>2.5</td>\n",
       "      <td>3.5</td>\n",
       "      <td>2.5</td>\n",
       "      <td>4.0</td>\n",
       "    </tr>\n",
       "    <tr>\n",
       "      <th>2</th>\n",
       "      <td>A Cure for Wellness</td>\n",
       "      <td>2016</td>\n",
       "      <td>47</td>\n",
       "      <td>6.6</td>\n",
       "      <td>40</td>\n",
       "      <td>47</td>\n",
       "      <td>3.0</td>\n",
       "      <td>2.35</td>\n",
       "      <td>3.30</td>\n",
       "      <td>2.00</td>\n",
       "      <td>2.35</td>\n",
       "      <td>2.5</td>\n",
       "      <td>3.5</td>\n",
       "      <td>2.0</td>\n",
       "      <td>2.5</td>\n",
       "    </tr>\n",
       "    <tr>\n",
       "      <th>3</th>\n",
       "      <td>A Dog's Purpose</td>\n",
       "      <td>2017</td>\n",
       "      <td>43</td>\n",
       "      <td>5.2</td>\n",
       "      <td>33</td>\n",
       "      <td>76</td>\n",
       "      <td>4.5</td>\n",
       "      <td>2.15</td>\n",
       "      <td>2.60</td>\n",
       "      <td>1.65</td>\n",
       "      <td>3.80</td>\n",
       "      <td>2.0</td>\n",
       "      <td>2.5</td>\n",
       "      <td>1.5</td>\n",
       "      <td>4.0</td>\n",
       "    </tr>\n",
       "    <tr>\n",
       "      <th>4</th>\n",
       "      <td>A Hologram for the King</td>\n",
       "      <td>2016</td>\n",
       "      <td>58</td>\n",
       "      <td>6.1</td>\n",
       "      <td>70</td>\n",
       "      <td>57</td>\n",
       "      <td>3.0</td>\n",
       "      <td>2.90</td>\n",
       "      <td>3.05</td>\n",
       "      <td>3.50</td>\n",
       "      <td>2.85</td>\n",
       "      <td>3.0</td>\n",
       "      <td>3.0</td>\n",
       "      <td>3.5</td>\n",
       "      <td>3.0</td>\n",
       "    </tr>\n",
       "  </tbody>\n",
       "</table>\n",
       "</div>"
      ],
      "text/plain": [
       "                     movie  year  metascore  imdb  tmeter  audience  fandango  \\\n",
       "0      10 Cloverfield Lane  2016         76   7.2      90        79       3.5   \n",
       "1                 13 Hours  2016         48   7.3      50        83       4.5   \n",
       "2      A Cure for Wellness  2016         47   6.6      40        47       3.0   \n",
       "3          A Dog's Purpose  2017         43   5.2      33        76       4.5   \n",
       "4  A Hologram for the King  2016         58   6.1      70        57       3.0   \n",
       "\n",
       "   n_metascore  n_imdb  n_tmeter  n_audience  nr_metascore  nr_imdb  \\\n",
       "0         3.80    3.60      4.50        3.95           4.0      3.5   \n",
       "1         2.40    3.65      2.50        4.15           2.5      3.5   \n",
       "2         2.35    3.30      2.00        2.35           2.5      3.5   \n",
       "3         2.15    2.60      1.65        3.80           2.0      2.5   \n",
       "4         2.90    3.05      3.50        2.85           3.0      3.0   \n",
       "\n",
       "   nr_tmeter  nr_audience  \n",
       "0        4.5          4.0  \n",
       "1        2.5          4.0  \n",
       "2        2.0          2.5  \n",
       "3        1.5          4.0  \n",
       "4        3.5          3.0  "
      ]
     },
     "execution_count": 5,
     "metadata": {},
     "output_type": "execute_result"
    }
   ],
   "source": [
    "# Reviewing the data from later period\n",
    "ratings_dq.head()"
   ]
  },
  {
   "cell_type": "code",
   "execution_count": 6,
   "metadata": {},
   "outputs": [
    {
     "data": {
      "text/plain": [
       "(214, 15)"
      ]
     },
     "execution_count": 6,
     "metadata": {},
     "output_type": "execute_result"
    }
   ],
   "source": [
    "# Checking the total number of rows and columns \n",
    "ratings_dq.shape"
   ]
  },
  {
   "cell_type": "markdown",
   "metadata": {},
   "source": [
    "There are 15 columns and 214 rows used in Dataquest's team dataset. This dataset, similarly to Hickey's, contains ratings from Fandango and other websites like RT (Rotten Tomatoes), Metacritic, IMDB. As before, we will select fewer columns."
   ]
  },
  {
   "cell_type": "code",
   "execution_count": 7,
   "metadata": {},
   "outputs": [],
   "source": [
    "# Selecting Fandango's ratings columns\n",
    "fandango_dq = ratings_dq[['movie', 'year', 'fandango']].copy()"
   ]
  },
  {
   "cell_type": "markdown",
   "metadata": {},
   "source": [
    "## Statistic Approach"
   ]
  },
  {
   "cell_type": "markdown",
   "metadata": {},
   "source": [
    "Our main goal is to research whether there has been any change in Fandango's rating system after Hickey's analysis. The population for our analysis encompasses all film ratings stored on Fandango's website.\n",
    "\n",
    "The Fandango data from Hickey's analysis was pulled in August 2015. The films included are only those that scored at least 30 fan reviews on Fandango. Additionally, we research the data collected in later period in order to find out whether the parameters of the population changed after Hickey's analysis. The later period data is a dataset collected by Dataquest team from films, with significant number of votes, realeased in 2016 and 2017.\n",
    "\n",
    "Before we try to describe the population we will check whether the samples used in the project are representative, becuase we would like to avoid large sampling error and incorrect conclusions. Looking at sample criteria in both datasets, we can notice that films do not have same chance to be chosen. Some films are not selected at all if they do not meet the criteria. Another thing is that the films are from various periods of time. Comparing the data from different time periods may lead to incorrect assumptions in this case. Therefore, the samples might not be representative of the entire population. \n"
   ]
  },
  {
   "cell_type": "markdown",
   "metadata": {},
   "source": [
    "## The Goal Modification\n",
    "---\n",
    "\n",
    "Using the data we have, we cannot answer the question regarding change in Fandango's rating system after Hickey's analysis. However, it is still possible to investigate the difference in Fandango's popular film ratings released in period 2015-2017. \n",
    "\n",
    "---"
   ]
  },
  {
   "cell_type": "markdown",
   "metadata": {},
   "source": [
    "## Defining Populations \n",
    "\n",
    "Based on our new goal, the populations are as follows:\n",
    "- all Fandango's ratings for popular films released in 2015,\n",
    "- all Fandango's ratings for popular films released in 2016,\n",
    "- all Fandango's ratings for popular films released in 2017.\n",
    "\n",
    "In our analysis `popular` means that the film received at least 30 reviews from fans on Fandango's website.  "
   ]
  },
  {
   "cell_type": "markdown",
   "metadata": {},
   "source": [
    "## Isolating the Samples"
   ]
  },
  {
   "cell_type": "markdown",
   "metadata": {},
   "source": [
    "The data from the Hickey's analysis contains only films with at least 30 reviews - according to the article. Let's check if it is true."
   ]
  },
  {
   "cell_type": "code",
   "execution_count": 8,
   "metadata": {},
   "outputs": [
    {
     "data": {
      "text/plain": [
       "0"
      ]
     },
     "execution_count": 8,
     "metadata": {},
     "output_type": "execute_result"
    }
   ],
   "source": [
    "# Filtering the data\n",
    "sum(fandango_Hickey['Fandango_votes'] < 30)"
   ]
  },
  {
   "cell_type": "markdown",
   "metadata": {},
   "source": [
    "There are no films in Hickey's analysis, which have less than 30 reviews."
   ]
  },
  {
   "cell_type": "markdown",
   "metadata": {},
   "source": [
    "Datasets with film ratings from 2016 and 2017 do not represent the number of fan reviews. In this part of the project we will use random sampling to determine whether it is representative. First of all, we will sample radomly 10 films. Secondly, we will check whether the number of ratings is above 30 on [Fandango's website](https://www.fandango.com/)."
   ]
  },
  {
   "cell_type": "code",
   "execution_count": 9,
   "metadata": {
    "scrolled": true
   },
   "outputs": [
    {
     "data": {
      "text/html": [
       "<div>\n",
       "<style scoped>\n",
       "    .dataframe tbody tr th:only-of-type {\n",
       "        vertical-align: middle;\n",
       "    }\n",
       "\n",
       "    .dataframe tbody tr th {\n",
       "        vertical-align: top;\n",
       "    }\n",
       "\n",
       "    .dataframe thead th {\n",
       "        text-align: right;\n",
       "    }\n",
       "</style>\n",
       "<table border=\"1\" class=\"dataframe\">\n",
       "  <thead>\n",
       "    <tr style=\"text-align: right;\">\n",
       "      <th></th>\n",
       "      <th>movie</th>\n",
       "      <th>year</th>\n",
       "      <th>fandango</th>\n",
       "    </tr>\n",
       "  </thead>\n",
       "  <tbody>\n",
       "    <tr>\n",
       "      <th>108</th>\n",
       "      <td>Mechanic: Resurrection</td>\n",
       "      <td>2016</td>\n",
       "      <td>4.0</td>\n",
       "    </tr>\n",
       "    <tr>\n",
       "      <th>206</th>\n",
       "      <td>Warcraft</td>\n",
       "      <td>2016</td>\n",
       "      <td>4.0</td>\n",
       "    </tr>\n",
       "    <tr>\n",
       "      <th>106</th>\n",
       "      <td>Max Steel</td>\n",
       "      <td>2016</td>\n",
       "      <td>3.5</td>\n",
       "    </tr>\n",
       "    <tr>\n",
       "      <th>107</th>\n",
       "      <td>Me Before You</td>\n",
       "      <td>2016</td>\n",
       "      <td>4.5</td>\n",
       "    </tr>\n",
       "    <tr>\n",
       "      <th>51</th>\n",
       "      <td>Fantastic Beasts and Where to Find Them</td>\n",
       "      <td>2016</td>\n",
       "      <td>4.5</td>\n",
       "    </tr>\n",
       "    <tr>\n",
       "      <th>33</th>\n",
       "      <td>Cell</td>\n",
       "      <td>2016</td>\n",
       "      <td>3.0</td>\n",
       "    </tr>\n",
       "    <tr>\n",
       "      <th>59</th>\n",
       "      <td>Genius</td>\n",
       "      <td>2016</td>\n",
       "      <td>3.5</td>\n",
       "    </tr>\n",
       "    <tr>\n",
       "      <th>152</th>\n",
       "      <td>Sully</td>\n",
       "      <td>2016</td>\n",
       "      <td>4.5</td>\n",
       "    </tr>\n",
       "    <tr>\n",
       "      <th>4</th>\n",
       "      <td>A Hologram for the King</td>\n",
       "      <td>2016</td>\n",
       "      <td>3.0</td>\n",
       "    </tr>\n",
       "    <tr>\n",
       "      <th>31</th>\n",
       "      <td>Captain America: Civil War</td>\n",
       "      <td>2016</td>\n",
       "      <td>4.5</td>\n",
       "    </tr>\n",
       "  </tbody>\n",
       "</table>\n",
       "</div>"
      ],
      "text/plain": [
       "                                       movie  year  fandango\n",
       "108                   Mechanic: Resurrection  2016       4.0\n",
       "206                                 Warcraft  2016       4.0\n",
       "106                                Max Steel  2016       3.5\n",
       "107                            Me Before You  2016       4.5\n",
       "51   Fantastic Beasts and Where to Find Them  2016       4.5\n",
       "33                                      Cell  2016       3.0\n",
       "59                                    Genius  2016       3.5\n",
       "152                                    Sully  2016       4.5\n",
       "4                    A Hologram for the King  2016       3.0\n",
       "31                Captain America: Civil War  2016       4.5"
      ]
     },
     "execution_count": 9,
     "metadata": {},
     "output_type": "execute_result"
    }
   ],
   "source": [
    "# Performing a random sampling\n",
    "fandango_dq.sample(10, random_state = 1)"
   ]
  },
  {
   "cell_type": "markdown",
   "metadata": {},
   "source": [
    "Dataquest Team compared the above ratings in April 2018 and found the following results:"
   ]
  },
  {
   "cell_type": "markdown",
   "metadata": {},
   "source": [
    "|Movie||Fan ratings|\n",
    "|----||----|\n",
    "|Mechanic: Resurrection||2247|\n",
    "|Warcraft||7271|\n",
    "|Max Steel||493|\n",
    "|Me Before You||5263|\n",
    "|Fantastic Beasts and Where to Find Them||13400|\n",
    "|Cell||17|\n",
    "|Grnius||127|\n",
    "|Sully||11877|\n",
    "|A Hologram for the King||500|\n",
    "|Captitan America: Civil War||35057|\n",
    "\n"
   ]
  },
  {
   "cell_type": "markdown",
   "metadata": {},
   "source": [
    "Just one film does not meet the requirements of popularity. Therefore we can continue our analysis. "
   ]
  },
  {
   "cell_type": "markdown",
   "metadata": {},
   "source": [
    "### Films released in 2015, 2016 and 2017"
   ]
  },
  {
   "cell_type": "markdown",
   "metadata": {},
   "source": [
    "Finally, we will check if the films in the datasets were all released in years we want to research."
   ]
  },
  {
   "cell_type": "code",
   "execution_count": 10,
   "metadata": {},
   "outputs": [
    {
     "data": {
      "text/plain": [
       "2015    129\n",
       "2014     17\n",
       "Name: FILM, dtype: int64"
      ]
     },
     "execution_count": 10,
     "metadata": {},
     "output_type": "execute_result"
    }
   ],
   "source": [
    "# Checking release years in Hickey's dataset\n",
    "fandango_Hickey['FILM'].str[-5:-1].value_counts()"
   ]
  },
  {
   "cell_type": "markdown",
   "metadata": {},
   "source": [
    "In Hickey's dataset there are 129 films from 2015 and 17 from 2014. We are only interested in those from 2015 so the other will be skipped."
   ]
  },
  {
   "cell_type": "code",
   "execution_count": 11,
   "metadata": {},
   "outputs": [
    {
     "data": {
      "text/plain": [
       "2015    129\n",
       "Name: Year, dtype: int64"
      ]
     },
     "execution_count": 11,
     "metadata": {},
     "output_type": "execute_result"
    }
   ],
   "source": [
    "# Isolating the films from 2015\n",
    "fandango_Hickey['Year'] = fandango_Hickey['FILM'].str[-5:-1]\n",
    "fandango_2015 = fandango_Hickey[fandango_Hickey['Year'] == '2015'].copy()\n",
    "fandango_2015['Year'].value_counts()"
   ]
  },
  {
   "cell_type": "code",
   "execution_count": 12,
   "metadata": {},
   "outputs": [
    {
     "data": {
      "text/plain": [
       "2016    191\n",
       "2017     23\n",
       "Name: year, dtype: int64"
      ]
     },
     "execution_count": 12,
     "metadata": {},
     "output_type": "execute_result"
    }
   ],
   "source": [
    "# Checking release years in the second dataset\n",
    "fandango_dq['year'].value_counts()"
   ]
  },
  {
   "cell_type": "markdown",
   "metadata": {},
   "source": [
    "There are only 23 films from 2017 so we will skip them and keep only the ones from 2016."
   ]
  },
  {
   "cell_type": "code",
   "execution_count": 13,
   "metadata": {},
   "outputs": [
    {
     "data": {
      "text/plain": [
       "2016    191\n",
       "Name: year, dtype: int64"
      ]
     },
     "execution_count": 13,
     "metadata": {},
     "output_type": "execute_result"
    }
   ],
   "source": [
    "# Isolating the films from 2016\n",
    "fandango_2016 = fandango_dq[fandango_dq['year'] == 2016].copy()\n",
    "fandango_2016['year'].value_counts()"
   ]
  },
  {
   "cell_type": "markdown",
   "metadata": {},
   "source": [
    "## Distribution Shapes"
   ]
  },
  {
   "cell_type": "markdown",
   "metadata": {},
   "source": [
    "Now we can start analyzing the two samples we isolated before. We would like to investigate whether there is any difference between Fandango's ratings for popular films in years 2015-2016. We will begin with a comparison based on distribution shapes."
   ]
  },
  {
   "cell_type": "code",
   "execution_count": 14,
   "metadata": {
    "scrolled": true
   },
   "outputs": [
    {
     "data": {
      "image/png": "[encoded data removed]",
      "text/plain": [
       "<Figure size 432x288 with 1 Axes>"
      ]
     },
     "metadata": {},
     "output_type": "display_data"
    }
   ],
   "source": [
    "# Importing the necessary libraries\n",
    "from numpy import arange\n",
    "import seaborn as sns\n",
    "import matplotlib.pyplot as plt\n",
    "%matplotlib inline\n",
    "\n",
    "# Customizing the graph\n",
    "plt.style.use('fivethirtyeight')\n",
    "\n",
    "# Generating the kernel density plots\n",
    "sns.kdeplot(fandango_2015[\"Fandango_Ratingvalue\"], label = '2015', shade=True)\n",
    "sns.kdeplot(fandango_2016[\"fandango\"], label = '2016', shade=True)\n",
    "plt.title('Fandango\\'s ratings in 2015 and 2016')\n",
    "plt.xlabel(\"Rating\")\n",
    "plt.ylabel('Density')\n",
    "plt.xlim(0,5)\n",
    "plt.xticks(arange(0,5.1,.5))\n",
    "sns.despine(left=True, bottom=True)"
   ]
  },
  {
   "cell_type": "markdown",
   "metadata": {},
   "source": [
    "The shape of distribution indicating ratings from 2015 has one peak at about 4.2 points. The distribution is negatively (left) skewed, which means that more values are concentrated on the right side of the graph while left side is longer. \n",
    "\n",
    "Although in 2016 the figure is also left skewed, the shape looks clearly diffrent. It has three peaks:\n",
    "- left peak (3.5),\n",
    "- middle peak (4.0),\n",
    "- right peak (4.5).\n",
    "\n",
    "The distributions prove that there is a change in Fandango ratings in 2016 in comparison to 2015. We can see that in 2016 less films received raitings below 3.5 and between 4.2-4.5. However, there were significantly more films which scored about 4 points. Overall, we can say that films in 2016 were assessed slightly lower than those in 2015."
   ]
  },
  {
   "cell_type": "markdown",
   "metadata": {},
   "source": [
    "## Frequency Tables"
   ]
  },
  {
   "cell_type": "markdown",
   "metadata": {},
   "source": [
    "We will try to compare the frequency distribution tables of the two distributions. First of all, we will compare the two tables using relative frequencies (percentages)."
   ]
  },
  {
   "cell_type": "code",
   "execution_count": 15,
   "metadata": {},
   "outputs": [
    {
     "data": {
      "text/plain": [
       "4.1    10.08\n",
       "3.9     9.30\n",
       "4.2     8.53\n",
       "4.3     6.98\n",
       "4.5     6.98\n",
       "3.6     6.20\n",
       "3.7     6.20\n",
       "4.4     5.43\n",
       "3.4     5.43\n",
       "4.0     5.43\n",
       "3.5     4.65\n",
       "3.2     3.10\n",
       "2.9     3.10\n",
       "3.3     3.10\n",
       "3.8     3.10\n",
       "3.0     3.10\n",
       "3.1     2.33\n",
       "4.8     2.33\n",
       "2.8     1.55\n",
       "4.6     1.55\n",
       "2.7     1.55\n",
       "Name: Fandango_Ratingvalue, dtype: float64"
      ]
     },
     "execution_count": 15,
     "metadata": {},
     "output_type": "execute_result"
    }
   ],
   "source": [
    "# Generating a frequency table for Hickey's dataset\n",
    "frequency_2015 = fandango_2015['Fandango_Ratingvalue'].value_counts(normalize = True)\n",
    "round(frequency_2015*100, 2)"
   ]
  },
  {
   "cell_type": "markdown",
   "metadata": {},
   "source": [
    "We can observe that the most common rating is 4.1 (over 10% of films). However, it is difficult to find patterns so we will use ordinal scale rather than ratio one."
   ]
  },
  {
   "cell_type": "markdown",
   "metadata": {},
   "source": [
    "|Condition||Label|\n",
    "|----||----|\n",
    "|number of films rated < 3.0||very low rating|\n",
    "|3.0 <= rating < 4.0||low rating|\n",
    "|4.0 <= rating < 4.5||good rating|\n",
    "|rating >= 4.5||perfect rating|"
   ]
  },
  {
   "cell_type": "code",
   "execution_count": 16,
   "metadata": {},
   "outputs": [
    {
     "name": "stdout",
     "output_type": "stream",
     "text": [
      "low rating         60\n",
      "good rating        47\n",
      "perfect rating     14\n",
      "very low rating     8\n",
      "Name: Rating_ordinal_scale, dtype: int64\n"
     ]
    }
   ],
   "source": [
    "# Writing a function for ordinal ratings\n",
    "def make_ratings_ordinal(row):\n",
    "    if row['Fandango_Ratingvalue'] < 3.0:\n",
    "        return 'very low rating'\n",
    "    if (3.0 <= row['Fandango_Ratingvalue'] < 4.0):\n",
    "        return 'low rating'\n",
    "    if (4.0 <= row['Fandango_Ratingvalue'] < 4.5):\n",
    "        return 'good rating'\n",
    "    else:\n",
    "        return 'perfect rating'\n",
    "\n",
    "# Applying the function\n",
    "fandango_2015['Rating_ordinal_scale'] = fandango_2015.apply(make_ratings_ordinal, axis=1)\n",
    "print(fandango_2015['Rating_ordinal_scale'].value_counts())"
   ]
  },
  {
   "cell_type": "markdown",
   "metadata": {},
   "source": [
    "In dataset from 2015 the most common rating is a low rating - 60 films, which accounts for almost half ratings (as mentioned earlier in the project there are in total 129 films). Good rating is also very common (47 films). Let's see how outcomes are in 2016."
   ]
  },
  {
   "cell_type": "code",
   "execution_count": 17,
   "metadata": {},
   "outputs": [
    {
     "name": "stdout",
     "output_type": "stream",
     "text": [
      "good rating        77\n",
      "low rating         60\n",
      "perfect rating     48\n",
      "very low rating     6\n",
      "Name: fandango_ordinal_scale, dtype: int64\n"
     ]
    }
   ],
   "source": [
    "# Writing a function for ordinal ratings\n",
    "def make_ratings_ordinal(row):\n",
    "    if row['fandango'] < 3.0:\n",
    "        return 'very low rating'\n",
    "    if (3.0 <= row['fandango'] < 4.0):\n",
    "        return 'low rating'\n",
    "    if (4.0 <= row['fandango'] < 4.5):\n",
    "        return 'good rating'\n",
    "    else:\n",
    "        return 'perfect rating'\n",
    "\n",
    "# Applying the function\n",
    "fandango_2016['fandango_ordinal_scale'] = fandango_2016.apply(make_ratings_ordinal, axis=1)\n",
    "print(fandango_2016['fandango_ordinal_scale'].value_counts())"
   ]
  },
  {
   "cell_type": "markdown",
   "metadata": {},
   "source": [
    "In 2016 the most common rating was a good rating - 77 films, which out of 191 total, is still a high number. Many films were also assessed low (60) and perfect (48)."
   ]
  },
  {
   "cell_type": "markdown",
   "metadata": {},
   "source": [
    "Our findings regarding distribution shapes align with the above findings. Back then we noticed that in 2016 in comparison to 2015 the number of good ratings was higher (middle peak). However, the number of low ratings in 2015 was proportionaly larger in 2015 than 2016. "
   ]
  },
  {
   "cell_type": "markdown",
   "metadata": {},
   "source": [
    "## Determining the Direction of the Change"
   ]
  },
  {
   "cell_type": "markdown",
   "metadata": {},
   "source": [
    "The findings we already made are usueful, however we would like to investigate more regarding the direction of the change. From frequency tables and kernel density plots it was not clear enough to determine the direction. Summary statistics shoul,d be a helpful tool here."
   ]
  },
  {
   "cell_type": "code",
   "execution_count": 21,
   "metadata": {},
   "outputs": [
    {
     "name": "stdout",
     "output_type": "stream",
     "text": [
      "Rating Mean 2015\n",
      "3.85\n",
      "Rating Median 2015\n",
      "3.9\n",
      "Rating mode 2015\n",
      "0    4.1\n",
      "dtype: float64\n"
     ]
    }
   ],
   "source": [
    "# Computing summary statistics for films from 2015\n",
    "print('Rating Mean 2015')\n",
    "mean_2015 = round(fandango_2015['Fandango_Ratingvalue'].mean(),2)\n",
    "print(mean_2015)                  \n",
    "\n",
    "print('Rating Median 2015')\n",
    "median_2015 = round(fandango_2015['Fandango_Ratingvalue'].median(),2)\n",
    "print(median_2015)\n",
    "\n",
    "print('Rating mode 2015')\n",
    "mode_2015 = round(fandango_2015['Fandango_Ratingvalue'].mode(),2)\n",
    "print(mode_2015)"
   ]
  },
  {
   "cell_type": "code",
   "execution_count": 19,
   "metadata": {},
   "outputs": [
    {
     "name": "stdout",
     "output_type": "stream",
     "text": [
      "Rating Mean 2016\n",
      "3.89\n",
      "Rating Median 2016\n",
      "4.0\n",
      "Rating Mode 2016\n",
      "0    4.0\n",
      "dtype: float64\n"
     ]
    }
   ],
   "source": [
    "# Computing summary statistics for films from 2016\n",
    "print('Rating Mean 2016')\n",
    "mean_2016 = round(fandango_2016['fandango'].mean(),2)\n",
    "print(mean_2016)\n",
    "\n",
    "print('Rating Median 2016')\n",
    "median_2016 = round(fandango_2016['fandango'].median(),2)\n",
    "print(median_2016)\n",
    "\n",
    "print('Rating Mode 2016')\n",
    "mode_2016 = round(fandango_2016['fandango'].mode(),2)\n",
    "print(mode_2016)"
   ]
  },
  {
   "cell_type": "markdown",
   "metadata": {},
   "source": [
    "Based on summary statistics we can make the following conclusions:\n",
    "- in 2015 average rating value was 3.85 while in 2016 it was 3.89. The result indicates that in general the rating in 2016 was slightly higher in comparison to 2015,\n",
    "- median in 2015 was 3.9 and in 2016 4.0. It indicates that central tendency was a little larger in 2016.\n",
    "- looking at mode, rating that appears most often in 2015 was 4.1 and in 2016 4.0.\n",
    "\n",
    "Overall, we can say that the difference in summary statistics of both distributions is slight."
   ]
  },
  {
   "cell_type": "markdown",
   "metadata": {},
   "source": [
    "## Fandango against the background of others"
   ]
  },
  {
   "cell_type": "markdown",
   "metadata": {},
   "source": [
    "Before we come to conclusions, we would like to compare avarage Fandango ratings in years 2015-2016 with the outcomes of other film rating websites: Metacritic, Rotten Tomatoes, IMDB."
   ]
  },
  {
   "cell_type": "code",
   "execution_count": 69,
   "metadata": {},
   "outputs": [
    {
     "data": {
      "image/png": "[encoded data removed]",
      "text/plain": [
       "<Figure size 432x288 with 1 Axes>"
      ]
     },
     "metadata": {
      "needs_background": "light"
     },
     "output_type": "display_data"
    }
   ],
   "source": [
    "# Selecting necessary columns from Hickey's dataset\n",
    "cols_2015 = ['FILM', 'RT_user_norm', 'Metacritic_user_nom', 'IMDB_norm', 'Fandango_Ratingvalue']\n",
    "reviews_2015 = ratings_Hickey[cols_2015]\n",
    "\n",
    "# Selecting necessary columns for 2016 ratings\n",
    "cols_2016 = ['movie', 'n_audience', 'n_imdb', 'fandango', 'n_metascore']\n",
    "reviews_2016 = ratings_dq[cols_2016]\n",
    "\n",
    "# Calculating average ratings in 2015\n",
    "avg_RT_15 = reviews_2015['RT_user_norm'].sum() / len(reviews_2015['RT_user_norm'])\n",
    "avg_Metacritic_15 = reviews_2015['Metacritic_user_nom'].sum() / len(reviews_2015['Metacritic_user_nom'])\n",
    "avg_IMDB_15 = reviews_2015['IMDB_norm'].sum() / len(reviews_2015['IMDB_norm'])\n",
    "avg_fandango_15 = reviews_2015['Fandango_Ratingvalue'].sum() / len(reviews_2015['Fandango_Ratingvalue'])\n",
    "\n",
    "# Calculating average ratings in 2016\n",
    "avg_RT_16 = reviews_2016['n_audience'].sum() / len(reviews_2016['n_audience'])\n",
    "avg_Metacritic_16 = reviews_2016['n_metascore'].sum() / len(reviews_2016['n_metascore'])\n",
    "avg_IMDB_16 = reviews_2016['n_imdb'].sum() / len(reviews_2016['n_imdb'])\n",
    "avg_fandango_16 = reviews_2016['fandango'].sum() / len(reviews_2016['fandango']) \n",
    "\n",
    "# Plotting a bar plot for rating comparision\n",
    "ratings_2015 = [avg_RT_15, avg_Metacritic_15, avg_IMDB_15, avg_fandango_15]\n",
    "ratings_2016 = [avg_RT_16, avg_Metacritic_16, avg_IMDB_16, avg_fandango_16]\n",
    "index = ['Rotten Tomatoes', 'Metacritic', 'IMDB', 'Fandango']\n",
    "df= pd.DataFrame({'ratings 2015': ratings_2015, 'ratings 2016': ratings_2016}, index=index)\n",
    "ax = df.plot.bar(rot=0, title ='Average Ratings Comparison for 2015 and 2016')"
   ]
  },
  {
   "cell_type": "markdown",
   "metadata": {},
   "source": [
    "Looking at above graph we can notice immediately that Fandango average ratings in both 2015 and 2016 were the highest. What is more, in 2016 the Fandango average rating in comparison to 2015 was slightly larger. At the same time, we can see an opposed tendency in case of Rotten Tomatoes, Metacritic and IMDB, where the average ratings in 2016 were lower in each case in comparison to 2015. "
   ]
  },
  {
   "cell_type": "markdown",
   "metadata": {},
   "source": [
    "# Conclusions\n",
    "---"
   ]
  },
  {
   "cell_type": "markdown",
   "metadata": {},
   "source": [
    "Based on the data we worked with in this project we could not provide an answer to question whether there has been any change in Fandango's rating system after Hickey's article. We found out that due to the fact that films in Hickey's analysis were chosen according to predefined criteria, the sample is not representative. We redefined our goal and decided to investigate a difference in Fandango's popular film ratings released in period 2015-2016.\n",
    "\n",
    "We made the following findings:\n",
    "- there is a distribution change in Fandango ratings in 2016 in comparison to 2015,\n",
    "- the difference in summary statistics of both distributions is slight,\n",
    "- Fandango average ratings in both 2015 and 2016 were the highest (in comparison to Rotten Tomatoes, Metacritic and IMDB),\n",
    "- in 2016 the Fandango average rating in comparison to 2015 was slightly larger."
   ]
  }
 ],
 "metadata": {
  "kernelspec": {
   "display_name": "Python 3",
   "language": "python",
   "name": "python3"
  },
  "language_info": {
   "codemirror_mode": {
    "name": "ipython",
    "version": 3
   },
   "file_extension": ".py",
   "mimetype": "text/x-python",
   "name": "python",
   "nbconvert_exporter": "python",
   "pygments_lexer": "ipython3",
   "version": "3.7.3"
  }
 },
 "nbformat": 4,
 "nbformat_minor": 2
}
